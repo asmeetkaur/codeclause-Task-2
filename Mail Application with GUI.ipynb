{
 "cells": [
  {
   "cell_type": "code",
   "execution_count": 1,
   "id": "4532398d",
   "metadata": {},
   "outputs": [],
   "source": [
    "import tkinter as tk\n",
    "from tkinter import messagebox\n",
    "import smtplib\n",
    "from email.mime.text import MIMEText\n",
    "from email.mime.multipart import MIMEMultipart"
   ]
  },
  {
   "cell_type": "code",
   "execution_count": 2,
   "id": "1e76ac97",
   "metadata": {},
   "outputs": [
    {
     "data": {
      "text/plain": [
       "''"
      ]
     },
     "execution_count": 2,
     "metadata": {},
     "output_type": "execute_result"
    }
   ],
   "source": [
    "root = tk.Tk()\n",
    "root.title(\"Mail Application\")"
   ]
  },
  {
   "cell_type": "code",
   "execution_count": 3,
   "id": "04110fd2",
   "metadata": {},
   "outputs": [],
   "source": [
    "# Entry fields\n",
    "sender_label = tk.Label(root, text=\"Sender Email:\")\n",
    "sender_entry = tk.Entry(root)\n",
    "sender_label.pack()\n",
    "sender_entry.pack()\n",
    "\n",
    "receiver_label = tk.Label(root, text=\"Receiver Email:\")\n",
    "receiver_entry = tk.Entry(root)\n",
    "receiver_label.pack()\n",
    "receiver_entry.pack()\n",
    "\n",
    "subject_label = tk.Label(root, text=\"Subject:\")\n",
    "subject_entry = tk.Entry(root)\n",
    "subject_label.pack()\n",
    "subject_entry.pack()\n",
    "\n",
    "body_label = tk.Label(root, text=\"Message Body:\")\n",
    "body_text = tk.Text(root, wrap=\"word\", height=5)\n",
    "body_label.pack()\n",
    "body_text.pack()"
   ]
  },
  {
   "cell_type": "code",
   "execution_count": 5,
   "id": "4bea2079",
   "metadata": {},
   "outputs": [],
   "source": [
    "# Send button\n",
    "def send_email():\n",
    "    sender_email = sender_entry.get()\n",
    "    receiver_email = receiver_entry.get()\n",
    "    subject = subject_entry.get()\n",
    "    body = body_text.get(1.0, tk.END)\n",
    "\n",
    "    try:\n",
    "        # Connect to the SMTP server (change the server and port accordingly)\n",
    "        server = smtplib.SMTP(\"smtp.gmail.com\", 587)\n",
    "        server.starttls()\n",
    "\n",
    "        # Login to the sender's email account\n",
    "        server.login(sender_email, \"your_password\")\n",
    "\n",
    "        # Create the email message\n",
    "        message = MIMEMultipart()\n",
    "        message[\"From\"] = sender_email\n",
    "        message[\"To\"] = receiver_email\n",
    "        message[\"Subject\"] = subject\n",
    "        message.attach(MIMEText(body, \"plain\"))\n",
    "\n",
    " # Send the email\n",
    "        server.sendmail(sender_email, receiver_email, message.as_string())\n",
    "\n",
    "        # Close the connection\n",
    "        server.quit()\n",
    "\n",
    "        messagebox.showinfo(\"Success\", \"Email sent successfully!\")\n",
    "    except Exception as e:\n",
    "        messagebox.showerror(\"Error\", f\"Failed to send email: {str(e)}\")\n",
    "\n",
    "send_button = tk.Button(root, text=\"Send Email\", command=send_email)\n",
    "send_button.pack()"
   ]
  },
  {
   "cell_type": "code",
   "execution_count": 6,
   "id": "d215ef1e",
   "metadata": {},
   "outputs": [],
   "source": [
    "root.mainloop()"
   ]
  },
  {
   "cell_type": "code",
   "execution_count": null,
   "id": "7b34ec92",
   "metadata": {},
   "outputs": [],
   "source": []
  }
 ],
 "metadata": {
  "kernelspec": {
   "display_name": "Python 3 (ipykernel)",
   "language": "python",
   "name": "python3"
  },
  "language_info": {
   "codemirror_mode": {
    "name": "ipython",
    "version": 3
   },
   "file_extension": ".py",
   "mimetype": "text/x-python",
   "name": "python",
   "nbconvert_exporter": "python",
   "pygments_lexer": "ipython3",
   "version": "3.11.5"
  }
 },
 "nbformat": 4,
 "nbformat_minor": 5
}
